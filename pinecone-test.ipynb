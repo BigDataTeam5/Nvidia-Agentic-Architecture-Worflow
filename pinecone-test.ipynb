{
 "cells": [
  {
   "cell_type": "code",
   "execution_count": 1,
   "metadata": {},
   "outputs": [
    {
     "name": "stderr",
     "output_type": "stream",
     "text": [
      "c:\\Users\\shush\\AppData\\Local\\pypoetry\\Cache\\virtualenvs\\rag-pipeline-airflow-xY_7R1eP-py3.10\\lib\\site-packages\\tqdm\\auto.py:21: TqdmWarning: IProgress not found. Please update jupyter and ipywidgets. See https://ipywidgets.readthedocs.io/en/stable/user_install.html\n",
      "  from .autonotebook import tqdm as notebook_tqdm\n"
     ]
    }
   ],
   "source": [
    "# check_pinecone_indexes.py\n",
    "import os\n",
    "from pinecone import Pinecone\n",
    "from dotenv import load_dotenv"
   ]
  },
  {
   "cell_type": "code",
   "execution_count": 7,
   "metadata": {},
   "outputs": [
    {
     "name": "stdout",
     "output_type": "stream",
     "text": [
      "Index 'nvidia-reports' does not exist.\n"
     ]
    }
   ],
   "source": [
    "load_dotenv()\n",
    "pinecone_api_key = os.getenv(\"PINECONE_API_KEY\")\n",
    "# Initialize Pinecone client\n",
    "pc = Pinecone(api_key=pinecone_api_key)\n",
    "    \n",
    "# Check if the index exists\n",
    "if \"nvidia-reports\" in pc.list_indexes():\n",
    "\tprint(\"Index 'nvidia-reports' exists.\")\n",
    "else:\n",
    "\tprint(\"Index 'nvidia-reports' does not exist.\")\n"
   ]
  },
  {
   "cell_type": "code",
   "execution_count": 9,
   "metadata": {},
   "outputs": [
    {
     "name": "stdout",
     "output_type": "stream",
     "text": [
      "http://localhost:8080/\n"
     ]
    }
   ],
   "source": [
    "import toml\n",
    "fastapi_config = toml.load(\"config.toml\")\n",
    "url = fastapi_config[\"fastapi_url\"]\n",
    "print(url)"
   ]
  },
  {
   "cell_type": "code",
   "execution_count": null,
   "metadata": {},
   "outputs": [
    {
     "name": "stdout",
     "output_type": "stream",
     "text": [
      "Namespaces in 'nvidia-reports': None\n"
     ]
    }
   ],
   "source": [
    "# List all namespaces in the index 'nvidia-reports'\n",
    "namespaces = pc.describe_index(\"nvidia-reports\").namespaces\n",
    "print(\"Namespaces in 'nvidia-reports':\", namespaces)\n"
   ]
  },
  {
   "cell_type": "code",
   "execution_count": 13,
   "metadata": {},
   "outputs": [
    {
     "name": "stdout",
     "output_type": "stream",
     "text": [
      "Query result from 'nvidia-reports': {'matches': [], 'namespace': '', 'usage': {'read_units': 1}}\n"
     ]
    }
   ],
   "source": [
    "# Query all vectors in the 'nvidia-reports' index\n",
    "index = pc.Index(\"nvidia-reports\")\n",
    "query_result = index.query(top_k=10, include_metadata=True)\n",
    "print(\"Query result from 'nvidia-reports':\", query_result)"
   ]
  },
  {
   "cell_type": "code",
   "execution_count": null,
   "metadata": {},
   "outputs": [],
   "source": []
  }
 ],
 "metadata": {
  "kernelspec": {
   "display_name": "rag-pipeline-airflow-xY_7R1eP-py3.10",
   "language": "python",
   "name": "python3"
  },
  "language_info": {
   "codemirror_mode": {
    "name": "ipython",
    "version": 3
   },
   "file_extension": ".py",
   "mimetype": "text/x-python",
   "name": "python",
   "nbconvert_exporter": "python",
   "pygments_lexer": "ipython3",
   "version": "3.10.5"
  }
 },
 "nbformat": 4,
 "nbformat_minor": 2
}
