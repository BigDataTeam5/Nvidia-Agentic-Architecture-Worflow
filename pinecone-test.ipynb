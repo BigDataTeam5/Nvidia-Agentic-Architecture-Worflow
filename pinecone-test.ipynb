{
 "cells": [
  {
   "cell_type": "code",
   "execution_count": 1,
   "metadata": {},
   "outputs": [
    {
     "name": "stderr",
     "output_type": "stream",
     "text": [
      "c:\\Users\\shush\\AppData\\Local\\pypoetry\\Cache\\virtualenvs\\rag-pipeline-airflow-xY_7R1eP-py3.10\\lib\\site-packages\\tqdm\\auto.py:21: TqdmWarning: IProgress not found. Please update jupyter and ipywidgets. See https://ipywidgets.readthedocs.io/en/stable/user_install.html\n",
      "  from .autonotebook import tqdm as notebook_tqdm\n"
     ]
    }
   ],
   "source": [
    "# check_pinecone_indexes.py\n",
    "import os\n",
    "from pinecone import Pinecone\n",
    "from dotenv import load_dotenv"
   ]
  },
  {
   "cell_type": "code",
   "execution_count": 5,
   "metadata": {},
   "outputs": [
    {
     "name": "stdout",
     "output_type": "stream",
     "text": [
      "embedding-cosine\n",
      "gpt-4o-research-agent\n",
      "pinecone-embeddings\n",
      "nvidia-reports\n"
     ]
    }
   ],
   "source": [
    "load_dotenv()\n",
    "pinecone_api_key = os.getenv(\"PINECONE_API_KEY\")\n",
    "# Initialize Pinecone client\n",
    "pc = Pinecone(api_key=pinecone_api_key)\n",
    "    \n",
    "# Check if the index exists\n",
    "for d in pc.list_indexes():\n",
    "\tprint(d.get(\"name\"))"
   ]
  },
  {
   "cell_type": "code",
   "execution_count": null,
   "metadata": {},
   "outputs": [
    {
     "name": "stdout",
     "output_type": "stream",
     "text": [
      "http://localhost:8080/\n"
     ]
    }
   ],
   "source": [
    "import toml\n",
    "fastapi_config = toml.load(\"config.toml\")\n",
    "url = fastapi_config[\"fastapi_url\"]\n",
    "print(url)"
   ]
  },
  {
   "cell_type": "code",
   "execution_count": null,
   "metadata": {},
   "outputs": [
    {
     "name": "stdout",
     "output_type": "stream",
     "text": [
      "Namespaces in 'nvidia-reports': None\n"
     ]
    }
   ],
   "source": [
    "# List all namespaces in the index 'nvidia-reports'\n",
    "namespaces = pc.describe_index(\"nvidia-reports\").namespaces\n",
    "print(\"Namespaces in 'nvidia-reports':\", namespaces)\n"
   ]
  },
  {
   "cell_type": "code",
   "execution_count": null,
   "metadata": {},
   "outputs": [
    {
     "name": "stdout",
     "output_type": "stream",
     "text": [
      "Query result from 'nvidia-reports' namespace '2024q1': {'matches': [{'id': 'f6a7a332-e58f-435b-b909-d207486766c8',\n",
      "              'metadata': {'chunk_id': 'Q1.md_2',\n",
      "                           'chunk_index': 2.0,\n",
      "                           'file_name': 'Q1.md',\n",
      "                           'json_source': 's3://rag-pipeline-with-airflow/chunks/2024q1.json',\n",
      "                           'quarter': 'Q1',\n",
      "                           'source': 'mistral_markdowns/2024/Q1.md',\n",
      "                           'text_preview': 'Quantitative and Qualitative '\n",
      "                                           'Disclosures About Market Risk\\n'\n",
      "                                           'Controlled by: 31\\n'\n",
      "                                           'Item 3. Quantitative an',\n",
      "                           'year': '2024'},\n",
      "              'score': 0.0,\n",
      "              'values': []},\n",
      "             {'id': 'd08e0c19-c39e-401c-bee5-71cd114130b9',\n",
      "              'metadata': {'chunk_id': 'Q1.md_3',\n",
      "                           'chunk_index': 3.0,\n",
      "                           'file_name': 'Q1.md',\n",
      "                           'json_source': 's3://rag-pipeline-with-airflow/chunks/2024q1.json',\n",
      "                           'quarter': 'Q1',\n",
      "                           'source': 'mistral_markdowns/2024/Q1.md',\n",
      "                           'text_preview': '|   | Three Months Ended  |   |\\n'\n",
      "                                           '| --- | --- | --- |\\n'\n",
      "                                           '|   | April 30, 2023 | May 1, '\n",
      "                                           '2022  |\\n'\n",
      "                                           '|  Revenue',\n",
      "                           'year': '2024'},\n",
      "              'score': 0.0,\n",
      "              'values': []},\n",
      "             {'id': 'a57ed88b-cfb1-4dc6-9aff-60b5ad3fa34f',\n",
      "              'metadata': {'chunk_id': 'Q1.md_4',\n",
      "                           'chunk_index': 4.0,\n",
      "                           'file_name': 'Q1.md',\n",
      "                           'json_source': 's3://rag-pipeline-with-airflow/chunks/2024q1.json',\n",
      "                           'quarter': 'Q1',\n",
      "                           'source': 'mistral_markdowns/2024/Q1.md',\n",
      "                           'text_preview': '|   | Three Months Ended  |   |\\n'\n",
      "                                           '| --- | --- | --- |\\n'\n",
      "                                           '|   | April 30, 2023 | May 1, '\n",
      "                                           '2022  |\\n'\n",
      "                                           '|  Net inc',\n",
      "                           'year': '2024'},\n",
      "              'score': 0.0,\n",
      "              'values': []},\n",
      "             {'id': 'd3c0d2b7-83cb-40e4-bee8-2dd48f42009c',\n",
      "              'metadata': {'chunk_id': 'Q1.md_5',\n",
      "                           'chunk_index': 5.0,\n",
      "                           'file_name': 'Q1.md',\n",
      "                           'json_source': 's3://rag-pipeline-with-airflow/chunks/2024q1.json',\n",
      "                           'quarter': 'Q1',\n",
      "                           'source': 'mistral_markdowns/2024/Q1.md',\n",
      "                           'text_preview': '|   |  |  | NVIDIA CORPORATION AND '\n",
      "                                           'SUBSIDIARIESCONDENSED CONSOLIDATED '\n",
      "                                           'BALANCE SHEETS |   |\\n'\n",
      "                                           '| --- | -',\n",
      "                           'year': '2024'},\n",
      "              'score': 0.0,\n",
      "              'values': []},\n",
      "             {'id': '7224d90c-0563-4d5d-b43e-51f01e45d5ee',\n",
      "              'metadata': {'chunk_id': 'Q1.md_6',\n",
      "                           'chunk_index': 6.0,\n",
      "                           'file_name': 'Q1.md',\n",
      "                           'json_source': 's3://rag-pipeline-with-airflow/chunks/2024q1.json',\n",
      "                           'quarter': 'Q1',\n",
      "                           'source': 'mistral_markdowns/2024/Q1.md',\n",
      "                           'text_preview': '|   |  |  |  |  |  | NVIDIA '\n",
      "                                           'CORPORATION AND SUBSIDIARIES |   '\n",
      "                                           '|\\n'\n",
      "                                           '| --- | --- | --- | --- | --- | '\n",
      "                                           '--- |',\n",
      "                           'year': '2024'},\n",
      "              'score': 0.0,\n",
      "              'values': []},\n",
      "             {'id': '04b2f794-2e09-4672-8659-8f4da6f85ca1',\n",
      "              'metadata': {'chunk_id': 'Q1.md_7',\n",
      "                           'chunk_index': 7.0,\n",
      "                           'file_name': 'Q1.md',\n",
      "                           'json_source': 's3://rag-pipeline-with-airflow/chunks/2024q1.json',\n",
      "                           'quarter': 'Q1',\n",
      "                           'source': 'mistral_markdowns/2024/Q1.md',\n",
      "                           'text_preview': '|   | Three Months Ended  |   |\\n'\n",
      "                                           '| --- | --- | --- |\\n'\n",
      "                                           '|   | April 30, 2023 | May 1, '\n",
      "                                           '2022  |\\n'\n",
      "                                           '|  Cash fl',\n",
      "                           'year': '2024'},\n",
      "              'score': 0.0,\n",
      "              'values': []},\n",
      "             {'id': '432ef0e1-780d-42d3-bb14-72b56f0829e8',\n",
      "              'metadata': {'chunk_id': 'Q1.md_8',\n",
      "                           'chunk_index': 8.0,\n",
      "                           'file_name': 'Q1.md',\n",
      "                           'json_source': 's3://rag-pipeline-with-airflow/chunks/2024q1.json',\n",
      "                           'quarter': 'Q1',\n",
      "                           'source': 'mistral_markdowns/2024/Q1.md',\n",
      "                           'text_preview': '# NVIDIA CORPORATION AND '\n",
      "                                           'SUBSIDIARIES NOTES TO CONDENSED '\n",
      "                                           'CONSOLIDATED FINANCIAL STATEMENTS '\n",
      "                                           '(Unaudite',\n",
      "                           'year': '2024'},\n",
      "              'score': 0.0,\n",
      "              'values': []},\n",
      "             {'id': '5dabc8e4-fe54-4e7a-8e8f-b778b8a4fc70',\n",
      "              'metadata': {'chunk_id': 'Q1.md_9',\n",
      "                           'chunk_index': 9.0,\n",
      "                           'file_name': 'Q1.md',\n",
      "                           'json_source': 's3://rag-pipeline-with-airflow/chunks/2024q1.json',\n",
      "                           'quarter': 'Q1',\n",
      "                           'source': 'mistral_markdowns/2024/Q1.md',\n",
      "                           'text_preview': 'Certain prior fiscal year balances '\n",
      "                                           'have been reclassified to conform '\n",
      "                                           'to the current fiscal year pres',\n",
      "                           'year': '2024'},\n",
      "              'score': 0.0,\n",
      "              'values': []},\n",
      "             {'id': '0a425a65-8c18-45c2-83a3-28c88693700b',\n",
      "              'metadata': {'chunk_id': 'Q1.md_0',\n",
      "                           'chunk_index': 0.0,\n",
      "                           'file_name': 'Q1.md',\n",
      "                           'json_source': 's3://rag-pipeline-with-airflow/chunks/2024q1.json',\n",
      "                           'quarter': 'Q1',\n",
      "                           'source': 'mistral_markdowns/2024/Q1.md',\n",
      "                           'text_preview': '# UNITED STATES <br> SECURITIES '\n",
      "                                           'AND EXCHANGE COMMISSION '\n",
      "                                           'Washington, D.C. 20549\\n'\n",
      "                                           '\\n'\n",
      "                                           '## FORM 10-Q\\n'\n",
      "                                           '\\n'\n",
      "                                           'QUARTE',\n",
      "                           'year': '2024'},\n",
      "              'score': 0.0,\n",
      "              'values': []},\n",
      "             {'id': 'af1cecaa-e33c-4374-9830-70bf6db030e9',\n",
      "              'metadata': {'chunk_id': 'Q1.md_1',\n",
      "                           'chunk_index': 1.0,\n",
      "                           'file_name': 'Q1.md',\n",
      "                           'json_source': 's3://rag-pipeline-with-airflow/chunks/2024q1.json',\n",
      "                           'quarter': 'Q1',\n",
      "                           'source': 'mistral_markdowns/2024/Q1.md',\n",
      "                           'text_preview': 'Indicate by check mark whether the '\n",
      "                                           'registrant is a large accelerated '\n",
      "                                           'filer, an accelerated filer, a ',\n",
      "                           'year': '2024'},\n",
      "              'score': 0.0,\n",
      "              'values': []}],\n",
      " 'namespace': '2024q1',\n",
      " 'usage': {'read_units': 6}}\n"
     ]
    }
   ],
   "source": [
    "# Query all vectors in the 'nvidia-reports' index\n",
    "index = pc.Index(\"nvidia-reports\")\n",
    "\n",
    "# Provide a dummy vector for querying (replace with an actual vector if available)\n",
    "dummy_vector = [0.0] * 384  # Replace 384 with the actual dimensionality of your index\n",
    "\n",
    "query_result = index.query(vector=dummy_vector, top_k=10, include_metadata=True, namespace=\"2024q1\")\n",
    "print(\"Query result from 'nvidia-reports' namespace '2024q1':\", query_result)"
   ]
  },
  {
   "cell_type": "code",
   "execution_count": null,
   "metadata": {},
   "outputs": [
    {
     "name": "stdout",
     "output_type": "stream",
     "text": [
      "Metadata for the first result: s3://rag-pipeline-with-airflow/chunks/2024q1.json\n",
      "bucket_name: rag-pipeline-with-airflow, key: chunks/2024q1.json\n"
     ]
    }
   ],
   "source": [
    "# Extract and print metadata for the first result\n",
    "first_result_metadata = query_result['matches'][0]['metadata']['json_source']\n",
    "print(\"Metadata for the first result:\", first_result_metadata)\n",
    "bucket_name = first_result_metadata.split(\"/\")[2]\n",
    "key = '/'.join(first_result_metadata.split('/')[3:])\n",
    "print(f\"bucket_name: {bucket_name}, key: {key}\")"
   ]
  },
  {
   "cell_type": "markdown",
   "metadata": {},
   "source": [
    "Creating the Langgraph Diagram "
   ]
  },
  {
   "cell_type": "code",
   "execution_count": 6,
   "metadata": {},
   "outputs": [
    {
     "ename": "ModuleNotFoundError",
     "evalue": "No module named 'langGraph.utils'",
     "output_type": "error",
     "traceback": [
      "\u001b[1;31m---------------------------------------------------------------------------\u001b[0m",
      "\u001b[1;31mModuleNotFoundError\u001b[0m                       Traceback (most recent call last)",
      "Cell \u001b[1;32mIn[6], line 3\u001b[0m\n\u001b[0;32m      1\u001b[0m \u001b[38;5;28;01mimport\u001b[39;00m\u001b[38;5;250m \u001b[39m\u001b[38;5;21;01msys\u001b[39;00m\n\u001b[0;32m      2\u001b[0m sys\u001b[38;5;241m.\u001b[39mpath\u001b[38;5;241m.\u001b[39mappend(\u001b[38;5;124m\"\u001b[39m\u001b[38;5;124mlangGraph\u001b[39m\u001b[38;5;124m\"\u001b[39m)    \n\u001b[1;32m----> 3\u001b[0m \u001b[38;5;28;01mfrom\u001b[39;00m\u001b[38;5;250m \u001b[39m\u001b[38;5;21;01mlangGraph\u001b[39;00m\u001b[38;5;21;01m.\u001b[39;00m\u001b[38;5;21;01mutils\u001b[39;00m\u001b[38;5;250m \u001b[39m\u001b[38;5;28;01mimport\u001b[39;00m generate_workflow_diagram\n\u001b[0;32m      4\u001b[0m diagram_path \u001b[38;5;241m=\u001b[39m generate_workflow_diagram()\n",
      "\u001b[1;31mModuleNotFoundError\u001b[0m: No module named 'langGraph.utils'"
     ]
    }
   ],
   "source": [
    "import sys\n",
    "sys.path.append(\"langGraph\")    \n",
    "from langGraph.utils import generate_workflow_diagram\n",
    "diagram_path = generate_workflow_diagram()"
   ]
  },
  {
   "cell_type": "code",
   "execution_count": 4,
   "metadata": {},
   "outputs": [
    {
     "name": "stderr",
     "output_type": "stream",
     "text": [
      "c:\\Users\\shush\\AppData\\Local\\pypoetry\\Cache\\virtualenvs\\rag-pipeline-airflow-xY_7R1eP-py3.10\\lib\\site-packages\\tqdm\\auto.py:21: TqdmWarning: IProgress not found. Please update jupyter and ipywidgets. See https://ipywidgets.readthedocs.io/en/stable/user_install.html\n",
      "  from .autonotebook import tqdm as notebook_tqdm\n",
      "d:\\Notheastern University\\courses\\Big data\\Nvidia Agentic Worflow Architecture\\Nvidia-Agentic-Architecture-Worflow\\agents\\snowflake_agent.py:118: LangChainDeprecationWarning: LangChain agents will continue to be supported, but it is recommended for new use cases to be built with LangGraph. LangGraph offers a more flexible and full-featured framework for building agents, including support for tool-calling, persistence of state, and human-in-the-loop workflows. For details, refer to the `LangGraph documentation <https://langchain-ai.github.io/langgraph/>`_ as well as guides for `Migrating from AgentExecutor <https://python.langchain.com/docs/how_to/migrate_agent/>`_ and LangGraph's `Pre-built ReAct agent <https://langchain-ai.github.io/langgraph/how-tos/create-react-agent/>`_.\n",
      "  agent = initialize_agent(\n"
     ]
    },
    {
     "name": "stdout",
     "output_type": "stream",
     "text": [
      "Workflow diagram saved to: nvidia_workflow.png\n"
     ]
    }
   ],
   "source": [
    "# Generate workflow diagram (one-time)\n",
    "from langGraph.pipeline import generate_workflow_diagram  \n",
    "diagram_path = generate_workflow_diagram()\n",
    "if diagram_path:\n",
    "    print(f\"Workflow diagram saved to: {diagram_path}\")"
   ]
  }
 ],
 "metadata": {
  "kernelspec": {
   "display_name": "rag-pipeline-airflow-xY_7R1eP-py3.10",
   "language": "python",
   "name": "python3"
  },
  "language_info": {
   "codemirror_mode": {
    "name": "ipython",
    "version": 3
   },
   "file_extension": ".py",
   "mimetype": "text/x-python",
   "name": "python",
   "nbconvert_exporter": "python",
   "pygments_lexer": "ipython3",
   "version": "3.10.5"
  }
 },
 "nbformat": 4,
 "nbformat_minor": 2
}
